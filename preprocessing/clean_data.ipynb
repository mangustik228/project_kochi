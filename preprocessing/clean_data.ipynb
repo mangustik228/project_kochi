{
 "cells": [
  {
   "cell_type": "code",
   "execution_count": 94,
   "metadata": {},
   "outputs": [
    {
     "name": "stderr",
     "output_type": "stream",
     "text": [
      "C:\\ProgramData\\Anaconda3\\lib\\site-packages\\openpyxl\\worksheet\\_reader.py:211: UserWarning: Cell J1898 is marked as a date but the serial value 9139164845 is outside the limits for dates. The cell will be treated as an error.\n",
      "  warn(msg)\n",
      "C:\\ProgramData\\Anaconda3\\lib\\site-packages\\openpyxl\\worksheet\\_reader.py:211: UserWarning: Cell K1898 is marked as a date but the serial value 89151586026 is outside the limits for dates. The cell will be treated as an error.\n",
      "  warn(msg)\n"
     ]
    }
   ],
   "source": [
    "import pandas as pd\n",
    "from pandas import ExcelWriter\n",
    "import re\n",
    "\n",
    "df_parse = pd.read_excel('pars_personal_information.xlsx')\n",
    "df_kristina = pd.read_excel('2021_12_kristina.xlsx')"
   ]
  },
  {
   "cell_type": "markdown",
   "metadata": {},
   "source": [
    "### Смотрим и сохраняем проблемные значения в частности дубликаты"
   ]
  },
  {
   "cell_type": "code",
   "execution_count": 95,
   "metadata": {},
   "outputs": [],
   "source": [
    "# создаем df где пропущены значения \"номер билета\", сохраняем и кикаем\n",
    "df_without_numbers = df_kristina[df_kristina['номер билета'].isnull()]\n",
    "with ExcelWriter('uncorrect_id.xlsx') as writer:\n",
    "    df_without_numbers.to_excel(writer, sheet_name='Sheet1')\n",
    "    \n",
    "# создаем df где дубли членских билето    \n",
    "df_duplicated_id = df_kristina[df_kristina['номер билета'].duplicated(keep=False)]\n",
    "with ExcelWriter('duplicated_id.xlsx') as writer:\n",
    "    df_duplicated_id.to_excel(writer, sheet_name='Sheet1')"
   ]
  },
  {
   "cell_type": "code",
   "execution_count": 96,
   "metadata": {},
   "outputs": [],
   "source": [
    "# Две функции для очистки читательских от лишних знаков\n",
    "def clean_spaces(row):\n",
    "    try:\n",
    "        pattern = r'[1-9]\\d+[-]*'      \n",
    "        return ''.join(re.findall(pattern, row))\n",
    "    except:\n",
    "        return row\n",
    "    \n",
    "def check_n(row):\n",
    "    return row.replace('\\n', '')\n",
    "\n",
    "# print(check_n('324-234\\n'))    \n",
    "# print(clean_spaces('342324 -  324'))\n",
    "# print(clean_spaces('000342324-324'))\n",
    "# print(clean_spaces('34232safd4-324'))"
   ]
  },
  {
   "cell_type": "code",
   "execution_count": 97,
   "metadata": {},
   "outputs": [],
   "source": [
    "df_kristina = df_kristina.dropna(subset=['номер билета'])  # Удаляем нули в номер билета\n",
    "df_kristina = df_kristina.drop_duplicates(subset=['номер билета'], keep=False)  # Кикаем дубликаты\n",
    "df_kristina['member_id_card'] = df_kristina['номер билета'].apply(clean_spaces)  # Чистим с помощью нашей функции\n",
    "df_parse['member_id_card'] = df_parse['member_id_card'].apply(check_n)  # Чистим с помощью нашей функции\n",
    "df_merge = df_kristina.merge(df_parse, on='member_id_card', how='outer')  # Склеиваем два df"
   ]
  },
  {
   "cell_type": "code",
   "execution_count": 98,
   "metadata": {},
   "outputs": [],
   "source": [
    "# Попытка объединить фреймы по именам... не увенчалася успехом\n",
    "# df_test = pd.read_excel('2021_12_kristina.xlsx')\n",
    "# df_duplicated_id = df_test[df_test['номер билета'].duplicated(keep=False)]\n",
    "# df_duplicated_id.drop(columns='номер билета', inplace=True)\n",
    "# df_duplicated_id['fullname'] = df_duplicated_id['ФИО'].copy()\n",
    "# df_test = df_merge.copy()\n",
    "# df_test = pd.concat([df_test, df_duplicated_id], ignore_index=True, join='inner')\n",
    "# df_merge = df_merge.merge(df_duplicated_id, on = 'fullname', how='left', left_indexbool=True)"
   ]
  },
  {
   "cell_type": "code",
   "execution_count": 99,
   "metadata": {},
   "outputs": [],
   "source": [
    "df_uncorrect_names_or_numers = df_merge[df_merge['ФИО'] != df_merge['fullname']]\n",
    "df_uncorrect_numbers_again = df_merge[df_merge['fullname'].isnull()]\n",
    "with ExcelWriter('ncorrect_numbers_again.xlsx') as writer:\n",
    "    df_uncorrect_numbers_again.to_excel(writer, sheet_name='Sheet1')"
   ]
  },
  {
   "cell_type": "code",
   "execution_count": 100,
   "metadata": {},
   "outputs": [],
   "source": [
    "# Убираем нули в fullname, создаем файл с дублями читательских\n",
    "df_merge = df_merge[df_merge['fullname'].notnull()]\n",
    "df_merge = df_merge.reset_index(drop=True)\n",
    "df_dupl = df_merge[df_merge['member_id_card'].duplicated(keep=False)]\n",
    "with ExcelWriter('duplicated_id_again.xlsx') as writer:\n",
    "    df_dupl.to_excel(writer, sheet_name='Sheet1')"
   ]
  },
  {
   "cell_type": "code",
   "execution_count": 101,
   "metadata": {},
   "outputs": [],
   "source": [
    "# В ручную кикнули дубли\n",
    "df_merge.drop(labels=[107, 864, 3429],axis = 0, inplace=True)\n",
    "\n",
    "# Удаляем дурацкие колонки \"Привет Эксель\"\n",
    "for i in range(28,50):\n",
    "    df_merge = df_merge.drop(columns=[f'Unnamed: {i}'])"
   ]
  },
  {
   "cell_type": "code",
   "execution_count": 102,
   "metadata": {},
   "outputs": [],
   "source": [
    "# Функий сверки имен\n",
    "def check_names(row):\n",
    "    try:\n",
    "        if row['ФИО'].split() == row['fullname'].split():\n",
    "            return row['fullname']\n",
    "        else:\n",
    "            return row['ФИО']  \n",
    "    except:\n",
    "        return row['fullname']"
   ]
  },
  {
   "cell_type": "code",
   "execution_count": 103,
   "metadata": {},
   "outputs": [],
   "source": [
    "# Удаляем ошибочные именна\n",
    "df_merge['ФИО'] = df_merge.apply(check_names, axis=1)\n",
    "df_test = df_merge[df_merge['ФИО'] != df_merge['fullname']]\n",
    "with ExcelWriter('mistakes_names.xlsx') as writer:\n",
    "    df_test.to_excel(writer, sheet_name='Sheet1')"
   ]
  },
  {
   "cell_type": "code",
   "execution_count": 104,
   "metadata": {},
   "outputs": [],
   "source": [
    "# Другая функция, для проверки уже имен с ошибками... регистр не проверяется.\n",
    "def correct_name(row):\n",
    "    name_kris = row['ФИО']\n",
    "    name_pars = row['fullname']\n",
    "    if row['ФИО'] == row['fullname']:\n",
    "        return name_pars\n",
    "    for value in row['fullname'].split():\n",
    "        if value in row['ФИО'].split():\n",
    "            correct_name = f'{name_kris}\\n({name_pars})'\n",
    "            return correct_name\n",
    "    correct_name = f'{name_pars} \\n (возможна ошибка)'\n",
    "    return correct_name\n",
    "    \n",
    "# columns_name = ['ФИО', 'fullname']  # Проверка работоспособности функции\n",
    "# values = [['Иванов Иван Иванович', 'Иванов Иван Иванович'],\n",
    "#           ['Иванов Иван Иванович', 'Иуанов Иван Иванович'],\n",
    "#           ['Иванов Иван Иванович', 'просто член']]\n",
    "# test_func_df = pd.DataFrame(data=values, columns=columns_name)\n",
    "# test_func_df['fullname'] = test_func_df.apply(correct_name, axis=1)\n",
    "# test_func_df"
   ]
  },
  {
   "cell_type": "code",
   "execution_count": 105,
   "metadata": {},
   "outputs": [],
   "source": [
    "# Создаем столбец с правильным именем\n",
    "df_merge['correct_name'] = df_merge.apply(correct_name, axis=1)"
   ]
  },
  {
   "cell_type": "code",
   "execution_count": 106,
   "metadata": {},
   "outputs": [],
   "source": [
    "# Импорт полученного df на всякий случай перед глобальным удалением данных\n",
    "df_merge.to_csv('important_moment.csv')"
   ]
  },
  {
   "cell_type": "markdown",
   "metadata": {},
   "source": [
    "### Удаление строк"
   ]
  },
  {
   "cell_type": "code",
   "execution_count": 107,
   "metadata": {},
   "outputs": [],
   "source": [
    "# Странные ребята с непонятными данными вступления\n",
    "df_test = df_merge[df_merge['member_year'].isnull()]\n",
    "df_test = df_test[df_test['Год вступления'].notnull()]\n",
    "with ExcelWriter('data_stranges.xlsx') as writer:\n",
    "    df_test.to_excel(writer, sheet_name='Sheet1')"
   ]
  },
  {
   "cell_type": "markdown",
   "metadata": {},
   "source": [
    "### Чистка телефонов и email"
   ]
  },
  {
   "cell_type": "code",
   "execution_count": 108,
   "metadata": {},
   "outputs": [],
   "source": [
    "def phones_update(uncorrect_phone):\n",
    "    uncorrect_phone = str(uncorrect_phone)\n",
    "    pattern = r'\\d'\n",
    "    new_phone = re.findall(pattern, uncorrect_phone)\n",
    "    if len(new_phone) == 0:\n",
    "        return None\n",
    "    new_phone = ''.join(new_phone)\n",
    "    \n",
    "    if len(new_phone) == 11 and new_phone[0] == '8':\n",
    "        new_phone = re.sub('8', '+7', new_phone, count=1)\n",
    "    if len(new_phone) == 11 and new_phone[0] == '7':\n",
    "        new_phone = re.sub('7', '+7', new_phone, count=1)\n",
    "    if len(new_phone) == 10 and new_phone[0] == '9':\n",
    "        new_phone = '+7' + new_phone\n",
    "    if len(new_phone) == 10 and new_phone[0] == '4' and new_phone[1] == '9':\n",
    "        new_phone = '+7' + new_phone\n",
    "    return new_phone"
   ]
  },
  {
   "cell_type": "code",
   "execution_count": 109,
   "metadata": {},
   "outputs": [],
   "source": [
    "df_merge['phone_one'] = df_merge['Телефон мобильный'].apply(phones_update)\n",
    "df_merge['phone_two'] = df_merge['mphone'].apply(phones_update)\n",
    "df_merge['phone_three'] = df_merge['Телефон'].copy() # В этой колонке много телефонов \"сразу по два\", поэтому копируем"
   ]
  },
  {
   "cell_type": "code",
   "execution_count": 110,
   "metadata": {},
   "outputs": [],
   "source": [
    "columns_to_delete = ['Телефон мобильный', 'mphone', 'lastname', 'first_name', 'ФИО',\n",
    "                     'middle_name', 'country', 'member_region', 'member_id_card_status',\n",
    "                     'adress', 'Unnamed: 0', 'Телефон', 'номер билета', 'Дата рождения', \n",
    "                     'Номер паспорта', 'Год вступления', 'Паспортные данные', 'fullname']\n",
    "\n",
    "for column in columns_to_delete:\n",
    "    df_merge.drop(columns=column, inplace=True)"
   ]
  },
  {
   "cell_type": "code",
   "execution_count": 111,
   "metadata": {},
   "outputs": [],
   "source": [
    "df_merge = df_merge[['member_id_card', 'correct_name', 'member_status', 'page', 'member_data', 'member_year',\n",
    "       'phone_one', 'phone_two', 'phone_three',    \n",
    "       'email', 'e-mail', '2-й эл. адрес', 'birthday',\n",
    "       'Пометка', 'БИЛЕТЫ', 'ПРИМЕЧАНИЕ о билете','№ Протокола о приеме', 'ПРИМЕЧАНИЕ о контакте', \n",
    "       'Деятельность', 'Должность, описание', 'work_place', 'type_employment', 'Регион', \n",
    "       'Оплата 2015', 'Оплата 2016', 'Оплата 2017', 'Оплата 2018', 'Оплата 2019',\n",
    "       'Оплата 2020', 'Оплата 2021', 'Оплата 2022', 'Оплата 2023', 'Оплата 2024']]"
   ]
  },
  {
   "cell_type": "code",
   "execution_count": null,
   "metadata": {},
   "outputs": [],
   "source": [
    "with ExcelWriter('tkcb.xlsx') as writer:\n",
    "    df_merge.to_excel(writer, sheet_name='Sheet1')"
   ]
  }
 ],
 "metadata": {
  "interpreter": {
   "hash": "b1a8b63bdf27559490c16144d51d3a6902ecbd7b7872de05b273d065c9a99ab9"
  },
  "kernelspec": {
   "display_name": "Python 3.10.0 64-bit",
   "language": "python",
   "name": "python3"
  },
  "language_info": {
   "codemirror_mode": {
    "name": "ipython",
    "version": 3
   },
   "file_extension": ".py",
   "mimetype": "text/x-python",
   "name": "python",
   "nbconvert_exporter": "python",
   "pygments_lexer": "ipython3",
   "version": "3.9.7"
  },
  "orig_nbformat": 4
 },
 "nbformat": 4,
 "nbformat_minor": 2
}
