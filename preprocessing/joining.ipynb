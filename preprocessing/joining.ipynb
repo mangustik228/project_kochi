{
 "cells": [
  {
   "cell_type": "code",
   "execution_count": 26,
   "metadata": {},
   "outputs": [],
   "source": [
    "import glob\n",
    "import pandas as pd"
   ]
  },
  {
   "cell_type": "code",
   "execution_count": 27,
   "metadata": {},
   "outputs": [],
   "source": [
    "list = glob.glob('*.xlsx')"
   ]
  },
  {
   "cell_type": "code",
   "execution_count": 28,
   "metadata": {},
   "outputs": [],
   "source": [
    "main_df = pd.DataFrame()\n",
    "name_row_v6 = ('id_pay', 'data', 'sum', 'phone', 'type', 'name')\n",
    "name_row_v7 = ('id_pay', 'data', 'sum', 'phone', 'type', 'name', 'period')\n",
    "name_row_v8 = ('id_pay', 'data', 'sum', 'phone',\n",
    "               'type', 'name', 'member_card', 'period')\n"
   ]
  },
  {
   "cell_type": "code",
   "execution_count": 29,
   "metadata": {},
   "outputs": [
    {
     "name": "stdout",
     "output_type": "stream",
     "text": [
      "duplicat.xlsx\n",
      "1\n"
     ]
    }
   ],
   "source": [
    "uncorrect_data = []\n",
    "\n",
    "for index,path in enumerate(list):\n",
    "    try:\n",
    "        df = pd.read_excel(path)\n",
    "        if len(df.columns) == 6:\n",
    "            df.set_axis(name_row_v6, axis=1, inplace=True)\n",
    "        elif len(df.columns) == 7:\n",
    "            df.set_axis(name_row_v7, axis=1, inplace=True)\n",
    "        else:\n",
    "            df.set_axis(name_row_v8, axis=1, inplace=True)    \n",
    "        main_df = pd.concat([main_df, df], )\n",
    "    except:\n",
    "        print(path)\n",
    "        uncorrect_data.append(path)\n",
    "        \n",
    "print(len(uncorrect_data))\n",
    "        "
   ]
  },
  {
   "cell_type": "code",
   "execution_count": 30,
   "metadata": {},
   "outputs": [],
   "source": [
    "main_df.head(15)\n",
    "main_df = main_df.dropna(subset=['sum'])"
   ]
  },
  {
   "cell_type": "code",
   "execution_count": 31,
   "metadata": {},
   "outputs": [],
   "source": [
    "main_df = main_df[main_df['id_pay'] != 'ID платежа']"
   ]
  },
  {
   "cell_type": "code",
   "execution_count": 32,
   "metadata": {},
   "outputs": [],
   "source": [
    "main_df = main_df.reset_index(drop=True)"
   ]
  },
  {
   "cell_type": "code",
   "execution_count": 33,
   "metadata": {},
   "outputs": [
    {
     "name": "stdout",
     "output_type": "stream",
     "text": [
      "<class 'pandas.core.frame.DataFrame'>\n",
      "RangeIndex: 3192 entries, 0 to 3191\n",
      "Data columns (total 8 columns):\n",
      " #   Column       Non-Null Count  Dtype \n",
      "---  ------       --------------  ----- \n",
      " 0   id_pay       3192 non-null   object\n",
      " 1   data         3192 non-null   object\n",
      " 2   sum          3192 non-null   object\n",
      " 3   phone        3192 non-null   object\n",
      " 4   type         3192 non-null   object\n",
      " 5   name         3192 non-null   object\n",
      " 6   period       77 non-null     object\n",
      " 7   member_card  77 non-null     object\n",
      "dtypes: object(8)\n",
      "memory usage: 199.6+ KB\n"
     ]
    }
   ],
   "source": [
    "main_df.info()"
   ]
  },
  {
   "cell_type": "code",
   "execution_count": 10,
   "metadata": {},
   "outputs": [],
   "source": [
    "import re"
   ]
  },
  {
   "cell_type": "code",
   "execution_count": 149,
   "metadata": {},
   "outputs": [],
   "source": [
    "def phones_update(row):\n",
    "    '''change uncorrect phone to correct format\n",
    "\n",
    "    Args:\n",
    "        row (str): uncorrect number\n",
    "    return:\n",
    "        phone (int): correct format of number\n",
    "    '''\n",
    "    regex_num = re.compile('\\d+')\n",
    "    phone = regex_num.findall(row)\n",
    "    phone = ''.join(phone)\n",
    "    if len(phone) == 10 and phone[0] == '9':\n",
    "        phone = '8' + phone\n",
    "    if phone[0] == '7' and len(phone) == 11:\n",
    "        phone = phone.replace('7','8',1)\n",
    "        return phone\n",
    "    if len(phone) != 11 or phone[0] != '8':\n",
    "        return '0'\n",
    "    return phone"
   ]
  },
  {
   "cell_type": "code",
   "execution_count": 34,
   "metadata": {},
   "outputs": [
    {
     "data": {
      "text/html": [
       "<div>\n",
       "<style scoped>\n",
       "    .dataframe tbody tr th:only-of-type {\n",
       "        vertical-align: middle;\n",
       "    }\n",
       "\n",
       "    .dataframe tbody tr th {\n",
       "        vertical-align: top;\n",
       "    }\n",
       "\n",
       "    .dataframe thead th {\n",
       "        text-align: right;\n",
       "    }\n",
       "</style>\n",
       "<table border=\"1\" class=\"dataframe\">\n",
       "  <thead>\n",
       "    <tr style=\"text-align: right;\">\n",
       "      <th></th>\n",
       "      <th>id_pay</th>\n",
       "      <th>data</th>\n",
       "      <th>sum</th>\n",
       "      <th>phone</th>\n",
       "      <th>type</th>\n",
       "      <th>name</th>\n",
       "      <th>period</th>\n",
       "      <th>member_card</th>\n",
       "    </tr>\n",
       "  </thead>\n",
       "  <tbody>\n",
       "    <tr>\n",
       "      <th>0</th>\n",
       "      <td>84047719</td>\n",
       "      <td>2021-02-28 00:42:54.460000</td>\n",
       "      <td>1300</td>\n",
       "      <td>89161329425</td>\n",
       "      <td>1. Единоразовый вступительный взнос</td>\n",
       "      <td>Овчинникова Александра Андреевна</td>\n",
       "      <td>NaN</td>\n",
       "      <td>NaN</td>\n",
       "    </tr>\n",
       "    <tr>\n",
       "      <th>1</th>\n",
       "      <td>84047877</td>\n",
       "      <td>2021-02-28 00:48:41.720000</td>\n",
       "      <td>300</td>\n",
       "      <td>89161329425</td>\n",
       "      <td>2. Ежегодный членский взнос</td>\n",
       "      <td>Овчинникова Александра Андреевна</td>\n",
       "      <td>NaN</td>\n",
       "      <td>NaN</td>\n",
       "    </tr>\n",
       "    <tr>\n",
       "      <th>2</th>\n",
       "      <td>84101338</td>\n",
       "      <td>2021-02-28 11:38:59.370000</td>\n",
       "      <td>600</td>\n",
       "      <td>89778129510</td>\n",
       "      <td>2. Ежегодный членский взнос</td>\n",
       "      <td>Пахомова Екатерина Николаевна</td>\n",
       "      <td>NaN</td>\n",
       "      <td>NaN</td>\n",
       "    </tr>\n",
       "    <tr>\n",
       "      <th>3</th>\n",
       "      <td>84193569</td>\n",
       "      <td>2021-02-28 22:29:56.430000</td>\n",
       "      <td>1300</td>\n",
       "      <td>+79039663778</td>\n",
       "      <td>1. Единоразовый вступительный взнос</td>\n",
       "      <td>Козлов Владимир Николаевич</td>\n",
       "      <td>NaN</td>\n",
       "      <td>NaN</td>\n",
       "    </tr>\n",
       "    <tr>\n",
       "      <th>4</th>\n",
       "      <td>84194252</td>\n",
       "      <td>2021-02-28 22:39:40.190000</td>\n",
       "      <td>1300</td>\n",
       "      <td>+79295059935</td>\n",
       "      <td>1. Единоразовый вступительный взнос</td>\n",
       "      <td>Иванов Алексей Владимирович</td>\n",
       "      <td>NaN</td>\n",
       "      <td>NaN</td>\n",
       "    </tr>\n",
       "  </tbody>\n",
       "</table>\n",
       "</div>"
      ],
      "text/plain": [
       "     id_pay                        data   sum         phone  \\\n",
       "0  84047719  2021-02-28 00:42:54.460000  1300   89161329425   \n",
       "1  84047877  2021-02-28 00:48:41.720000   300   89161329425   \n",
       "2  84101338  2021-02-28 11:38:59.370000   600   89778129510   \n",
       "3  84193569  2021-02-28 22:29:56.430000  1300  +79039663778   \n",
       "4  84194252  2021-02-28 22:39:40.190000  1300  +79295059935   \n",
       "\n",
       "                                  type                              name  \\\n",
       "0  1. Единоразовый вступительный взнос  Овчинникова Александра Андреевна   \n",
       "1          2. Ежегодный членский взнос  Овчинникова Александра Андреевна   \n",
       "2          2. Ежегодный членский взнос     Пахомова Екатерина Николаевна   \n",
       "3  1. Единоразовый вступительный взнос        Козлов Владимир Николаевич   \n",
       "4  1. Единоразовый вступительный взнос       Иванов Алексей Владимирович   \n",
       "\n",
       "  period member_card  \n",
       "0    NaN         NaN  \n",
       "1    NaN         NaN  \n",
       "2    NaN         NaN  \n",
       "3    NaN         NaN  \n",
       "4    NaN         NaN  "
      ]
     },
     "execution_count": 34,
     "metadata": {},
     "output_type": "execute_result"
    }
   ],
   "source": [
    "main_df.head(5)"
   ]
  },
  {
   "cell_type": "code",
   "execution_count": 35,
   "metadata": {},
   "outputs": [],
   "source": [
    "# main_df['phone'] = pd.to_numeric(main_df['phone'], errors='coerce')\n",
    "main_df['sum'] = pd.to_numeric(main_df['sum'], errors='coerce')\n",
    "main_df['new_data'] = pd.to_datetime(main_df['data'], errors='coerce', format='%Y-%m-%d')"
   ]
  },
  {
   "cell_type": "code",
   "execution_count": 36,
   "metadata": {},
   "outputs": [
    {
     "name": "stdout",
     "output_type": "stream",
     "text": [
      "<class 'pandas.core.frame.DataFrame'>\n",
      "RangeIndex: 3192 entries, 0 to 3191\n",
      "Data columns (total 9 columns):\n",
      " #   Column       Non-Null Count  Dtype         \n",
      "---  ------       --------------  -----         \n",
      " 0   id_pay       3192 non-null   object        \n",
      " 1   data         3192 non-null   object        \n",
      " 2   sum          3192 non-null   float64       \n",
      " 3   phone        3192 non-null   object        \n",
      " 4   type         3192 non-null   object        \n",
      " 5   name         3192 non-null   object        \n",
      " 6   period       77 non-null     object        \n",
      " 7   member_card  77 non-null     object        \n",
      " 8   new_data     3192 non-null   datetime64[ns]\n",
      "dtypes: datetime64[ns](1), float64(1), object(7)\n",
      "memory usage: 224.6+ KB\n"
     ]
    }
   ],
   "source": [
    "from pandas import ExcelWriter\n",
    "main_df.info()"
   ]
  },
  {
   "cell_type": "code",
   "execution_count": 37,
   "metadata": {},
   "outputs": [],
   "source": [
    "main_df = main_df.drop_duplicates(subset=['id_pay'])"
   ]
  },
  {
   "cell_type": "code",
   "execution_count": 38,
   "metadata": {},
   "outputs": [
    {
     "data": {
      "text/plain": [
       "1178407.38"
      ]
     },
     "execution_count": 38,
     "metadata": {},
     "output_type": "execute_result"
    }
   ],
   "source": [
    "main_df['sum'].sum()"
   ]
  },
  {
   "cell_type": "code",
   "execution_count": 23,
   "metadata": {},
   "outputs": [],
   "source": [
    "dupl = main_df[main_df.duplicated(subset='name',keep=False)]"
   ]
  },
  {
   "cell_type": "code",
   "execution_count": 25,
   "metadata": {},
   "outputs": [
    {
     "data": {
      "text/plain": [
       "count     1624.000000\n",
       "mean       707.824741\n",
       "std        539.736317\n",
       "min        300.000000\n",
       "25%        300.000000\n",
       "50%        300.000000\n",
       "75%       1300.000000\n",
       "max      10000.000000\n",
       "Name: sum, dtype: float64"
      ]
     },
     "execution_count": 25,
     "metadata": {},
     "output_type": "execute_result"
    }
   ],
   "source": [
    "main_df['sum'].describe()"
   ]
  },
  {
   "cell_type": "code",
   "execution_count": 39,
   "metadata": {},
   "outputs": [],
   "source": [
    "main_df = main_df.reset_index(drop=True)"
   ]
  },
  {
   "cell_type": "code",
   "execution_count": 24,
   "metadata": {},
   "outputs": [],
   "source": [
    "with ExcelWriter(\"duplicat.xlsx\") as writer:\n",
    "    dupl.to_excel(writer, sheet_name='sheet1')"
   ]
  },
  {
   "cell_type": "code",
   "execution_count": 40,
   "metadata": {},
   "outputs": [],
   "source": [
    "with ExcelWriter(\"main_equaring.xlsx\") as writer:\n",
    "    main_df.to_excel(writer, sheet_name=\"Sheet1\")"
   ]
  }
 ],
 "metadata": {
  "interpreter": {
   "hash": "19cd9e144062e1d74c30cc190641decf8dc4a282609cf1d935fcd87d48aceed2"
  },
  "kernelspec": {
   "display_name": "Python 3.9.7 64-bit ('base': conda)",
   "language": "python",
   "name": "python3"
  },
  "language_info": {
   "codemirror_mode": {
    "name": "ipython",
    "version": 3
   },
   "file_extension": ".py",
   "mimetype": "text/x-python",
   "name": "python",
   "nbconvert_exporter": "python",
   "pygments_lexer": "ipython3",
   "version": "3.9.7"
  },
  "orig_nbformat": 4
 },
 "nbformat": 4,
 "nbformat_minor": 2
}
