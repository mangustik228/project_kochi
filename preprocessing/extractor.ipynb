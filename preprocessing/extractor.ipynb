{
 "cells": [
  {
   "cell_type": "code",
   "execution_count": 222,
   "metadata": {},
   "outputs": [],
   "source": [
    "import pandas as pd\n",
    "import re\n",
    "from pandas import ExcelWriter\n",
    "df = pd.read_excel('natasha.xls')\n",
    "df = df[8:-1]\n",
    "df.columns = ['date', 'text', 'del_1', 'bank', 'analitic',\n",
    "              'del_2', 'sum', 'del_3', 'del_4', 'sum2',\n",
    "              'del_5', 'del_6']\n",
    "\n",
    "for i in range(1,7):\n",
    "    df.drop(columns=[f'del_{i}'], inplace=True)\n",
    "\n",
    "df['text'] = df['text'].str.lower()\n",
    "def check(row):\n",
    "    if 'перевод денежных средств по поручению физических лиц согласно реестру' in row:\n",
    "        return False \n",
    "    else:\n",
    "        return True\n",
    "\n",
    "df['checker'] = df['text'].apply(check)\n",
    "df = df[df['checker']]\n",
    "df.drop(columns=['sum2', 'checker'], inplace=True)"
   ]
  },
  {
   "cell_type": "code",
   "execution_count": 223,
   "metadata": {},
   "outputs": [],
   "source": [
    "from yargy import rule, or_, Parser\n",
    "from yargy.predicates import gram"
   ]
  },
  {
   "cell_type": "code",
   "execution_count": 224,
   "metadata": {},
   "outputs": [],
   "source": [
    "# RULEs FOR yargy-parser\n",
    "FIRST = gram('Name')\n",
    "LAST = gram('Surn')\n",
    "MIDDLE = gram('Patr')\n",
    "ABBR = gram('Abbr')\n",
    "NAME = or_(\n",
    "    rule(FIRST),\n",
    "    rule(LAST),\n",
    "    rule(FIRST, LAST),\n",
    "    rule(LAST, FIRST),\n",
    "    rule(FIRST, MIDDLE, LAST),\n",
    "    rule(ABBR, '.', ABBR, LAST),\n",
    "    rule(LAST, ABBR, '.', ABBR, '.')\n",
    ")\n"
   ]
  },
  {
   "cell_type": "code",
   "execution_count": 225,
   "metadata": {},
   "outputs": [],
   "source": [
    "from natasha import (\n",
    "    Segmenter,\n",
    "    MorphVocab,\n",
    "    NewsEmbedding,\n",
    "    NewsMorphTagger,\n",
    "    NewsSyntaxParser,\n",
    "    NewsNERTagger,\n",
    "    PER,\n",
    "    NamesExtractor,\n",
    "    DatesExtractor,\n",
    "    MoneyExtractor,\n",
    "    AddrExtractor,\n",
    "    Doc)\n",
    "segmenter = Segmenter()\n",
    "morph_vocab = MorphVocab()\n",
    "emb = NewsEmbedding()\n",
    "morph_tagger = NewsMorphTagger(emb)\n",
    "syntax_parser = NewsSyntaxParser(emb)\n",
    "ner_tagger = NewsNERTagger(emb)\n",
    "names_extractor = NamesExtractor(morph_vocab)\n",
    "dates_extractor = DatesExtractor(morph_vocab)\n",
    "money_extractor = MoneyExtractor(morph_vocab)\n",
    "addr_extractor = AddrExtractor(morph_vocab)\n"
   ]
  },
  {
   "cell_type": "code",
   "execution_count": 226,
   "metadata": {},
   "outputs": [],
   "source": [
    "text = '''\n",
    "Поступление на расчетный счет 0000-000083 от 21.02.2022 12:00:01\n",
    "ЗА 18/02/2022;ПЛАТОНОВ ВЛАДИМИР СЕРГЕЕВИЧ;ГОДОВОЙ ЧЛЕНСКИЙ ВЗНОС по вх.д. 720604 от 18.02.2022'''\n"
   ]
  },
  {
   "cell_type": "code",
   "execution_count": 235,
   "metadata": {},
   "outputs": [],
   "source": [
    "\n",
    "def cleaner(text):\n",
    "    try:\n",
    "        text = re.sub(r\"\\d+\", \"\", text)\n",
    "        symbols_to_change = ['\\n','/',';','.',':',' по ']\n",
    "        for symbol in symbols_to_change:\n",
    "            text = text.replace(symbol, ' ')\n",
    "        text = text.capitalize().strip()\n",
    "    except:\n",
    "        pass\n",
    "    return text"
   ]
  },
  {
   "cell_type": "code",
   "execution_count": 233,
   "metadata": {},
   "outputs": [],
   "source": [
    "\n",
    "def pars_name(text):\n",
    "    try:\n",
    "        result = ''\n",
    "        parser = Parser(NAME)\n",
    "        for match in parser.findall(text):\n",
    "            start, stop = match.span\n",
    "            result += text[start:stop] + ' '\n",
    "        return result.strip()\n",
    "    except:\n",
    "        return text"
   ]
  },
  {
   "cell_type": "code",
   "execution_count": 234,
   "metadata": {},
   "outputs": [],
   "source": [
    "def lemattize_name(row):\n",
    "    doc = Doc(row)\n",
    "    doc.segment(segmenter)\n",
    "    doc.tag_morph(morph_tagger)\n",
    "    doc.parse_syntax(syntax_parser)\n",
    "    doc.tag_ner(ner_tagger)\n",
    "\n",
    "    for token in doc.tokens:\n",
    "        token.lemmatize(morph_vocab)\n",
    "\n",
    "    my_dict = {_.text: _.lemma for _ in doc.tokens[:]}\n",
    "    res = ''\n",
    "    for i in my_dict:\n",
    "        res += my_dict.get(i).capitalize() + ' '\n",
    "    return res.strip()"
   ]
  },
  {
   "cell_type": "code",
   "execution_count": 236,
   "metadata": {},
   "outputs": [],
   "source": [
    "def lemmatize(row):\n",
    "    if row['name']:\n",
    "        return row['name']\n",
    "    text = row['text']\n",
    "    text = cleaner(text)\n",
    "    text = pars_name(text)\n",
    "    text = lemattize_name(text)\n",
    "    return text\n"
   ]
  },
  {
   "cell_type": "code",
   "execution_count": 228,
   "metadata": {},
   "outputs": [],
   "source": [
    "def ticket_number(row):\n",
    "    pattern = r'\\d+-77'\n",
    "    try:\n",
    "        return re.findall(pattern, row)[0]\n",
    "    except IndexError:\n",
    "        return ''\n",
    "\n",
    "df['ticket'] = df['text'].apply(ticket_number)\n"
   ]
  },
  {
   "cell_type": "code",
   "execution_count": 229,
   "metadata": {},
   "outputs": [],
   "source": [
    "def check_name(row: str):\n",
    "    row = row.lower()\n",
    "    pattern = r';\\w+\\s\\w+\\s\\w+;'\n",
    "    try:\n",
    "        text:str = re.findall(pattern, row)[0]\n",
    "    except IndexError:\n",
    "        return ''\n",
    "    text = text.replace(';', '')\n",
    "    res = ''\n",
    "    for i in text.split():\n",
    "        res += i.capitalize() + ' '\n",
    "    res = res.strip()\n",
    "    return res\n"
   ]
  },
  {
   "cell_type": "code",
   "execution_count": 237,
   "metadata": {},
   "outputs": [
    {
     "name": "stderr",
     "output_type": "stream",
     "text": [
      "C:\\ProgramData\\Anaconda3\\envs\\ds_3_7\\lib\\site-packages\\pandas\\core\\series.py:4135: FutureWarning: 'is_extension_type' is deprecated and will be removed in a future version.  Use 'is_extension_array_dtype' instead.\n",
      "  broadcast_axis=None,\n"
     ]
    }
   ],
   "source": [
    "df['ticket'] = df['text'].apply(ticket_number)\n",
    "df['name'] = df['text'].apply(check_name)\n",
    "df['name'] = df.apply(lemmatize, axis=1)"
   ]
  },
  {
   "cell_type": "code",
   "execution_count": 238,
   "metadata": {},
   "outputs": [],
   "source": [
    "with ExcelWriter('new_v4.xlsx') as writer:\n",
    "    df.to_excel(writer)"
   ]
  }
 ],
 "metadata": {
  "interpreter": {
   "hash": "8067a94da758a4d15e5b8df6d7c64a46e96559914e79dc55adbac8bc6174ed21"
  },
  "kernelspec": {
   "display_name": "Python 3.7.13 ('ds_3_7')",
   "language": "python",
   "name": "python3"
  },
  "language_info": {
   "codemirror_mode": {
    "name": "ipython",
    "version": 3
   },
   "file_extension": ".py",
   "mimetype": "text/x-python",
   "name": "python",
   "nbconvert_exporter": "python",
   "pygments_lexer": "ipython3",
   "version": "3.7.13"
  },
  "orig_nbformat": 4
 },
 "nbformat": 4,
 "nbformat_minor": 2
}
